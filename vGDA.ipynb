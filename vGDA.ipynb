{
 "cells": [
  {
   "cell_type": "code",
   "execution_count": 1,
   "metadata": {},
   "outputs": [],
   "source": [
    "import numpy as np\n",
    "import pandas as pd\n",
    "import geopandas as gpd\n",
    "from LUloader import LUloader\n"
   ]
  },
  {
   "cell_type": "code",
   "execution_count": null,
   "metadata": {},
   "outputs": [],
   "source": [
    "%matplotlib inline\n",
    "Func_types = ['Restrict', 'U', 'C', 'T']\n",
    "Func_cmap = ['white', 'lightgray', 'springgreen', 'forestgreen']\n",
    "\n",
    "CL = LUloader(LUs=Func_types, asProb=True, LUType='V', LUname='lu', LUcol='lu', driver='feather', cmap=Func_cmap, path='CL')\n",
    "CL.plot_LU()"
   ]
  },
  {
   "cell_type": "code",
   "execution_count": null,
   "metadata": {},
   "outputs": [],
   "source": [
    "w = pd.read_csv('CL/Ws.csv').set_index('PAC')\n",
    "wx = gpd.read_feather('CL/lu.feather')\n",
    "wx['grid_code'] = wx['grid_code'].astype(int)\n",
    "gdp = w.GDP\n",
    "p = pd.DataFrame({i: wx.grid_code == i for i in gdp.index}).astype(int)\n",
    "\n",
    "wx['food'] = wx['RASTERVALU'] * wx['recultivat'] / 10 * wx['grid_code'].apply(lambda x: w['FOOD'][x] if x not in [710000, 810000] else 0)\n",
    "wx['tree'] = wx['RASTERVALU'] * wx['reforest'] / 10 * wx['grid_code'].apply(lambda x: w['NEP'][x] if x not in [710000, 810000] else 0)\n",
    "wx['biod'] = wx['RASTERVALU'] * wx['reforest'] / 10 * wx['grid_code'].apply(lambda x: w['BIO'][x] if x not in [710000, 810000] else 0)\n",
    "\n",
    "wx['foodvaluec'] = wx['RASTERVALU'] * wx['recultivat'] / 10 * wx['grid_code'].apply(lambda x: w['FOODVALUEC'][x] if x not in [710000, 810000] else 0)\n",
    "wx['foodvalued'] = wx['RASTERVALU'] * wx['recultivat'] / 10 * wx['grid_code'].apply(lambda x: w['FOODVALUED'][x] if x not in [710000, 810000] else 0)\n",
    "\n",
    "wx['treevaluec'] = wx['RASTERVALU'] * wx['reforest'] / 10 * wx['grid_code'].apply(lambda x: w['TREEVALUEC'][x] if x not in [710000, 810000] else 0)\n",
    "wx['treevalued'] = wx['RASTERVALU'] * wx['reforest'] / 10 * wx['grid_code'].apply(lambda x: w['TREEVALUED'][x] if x not in [710000, 810000] else 0)\n",
    "\n",
    "\n",
    "wx = wx[['pointid', 'food', 'tree', 'biod', 'foodvaluec', 'foodvalued', 'treevaluec', 'treevalued', 'RASTERVALU']]\n",
    "\n",
    "maskR = np.ones_like(CL.var.LU)\n",
    "maskR[:, 1] = wx['food'] > 0\n",
    "maskR[:, 2] = wx['tree'] > 0\n",
    "maskR[:, 3] = wx['biod'] > 0\n",
    "maskR[:, 4] = wx['foodvaluec'] > 0\n",
    "maskR[:, 5] = wx['foodvalued'] > 0\n",
    "maskR[:, 6] = wx['treevaluec'] > 0\n",
    "maskR[:, 7] = wx['treevalued'] > 0\n",
    "\n",
    "\n",
    "\n",
    "\n",
    "CCM = np.loadtxt('CL/CCM.csv', delimiter=',')\n",
    "CCM = 1 - CCM / CCM.max()"
   ]
  },
  {
   "cell_type": "code",
   "execution_count": null,
   "metadata": {},
   "outputs": [],
   "source": [
    "M = {'LU': CL}\n",
    "con = dict(food=wx['food'].to_numpy(), tree=wx['tree'].to_numpy(), biod=wx['biod'].to_numpy(), foodvaluec=wx['foodvaluec'].to_numpy(), foodvalued=wx['foodvalued'].to_numpy(), treevaluec=wx['treevaluec'].to_numpy(), treevalued=wx['treevalued'].to_numpy(), CCM=CCM, oLU=CL.var.LU.to_numpy().copy())"
   ]
  },
  {
   "cell_type": "code",
   "execution_count": null,
   "metadata": {},
   "outputs": [],
   "source": [
    "from model import GDAmodel\n",
    "import objs\n",
    "\n",
    "thC = 0.98  # threshod of conversion limit\n",
    "Model = GDAmodel(M, con, maskR, objs, thC=thC, GPU=1, path='CL')\n",
    "# print(Model.LU.shape)\n",
    "\n",
    "Model.init_train(500, lr=0.1)       # no init file: run init_train\n",
    "Model.save_inp()                    # save init file\n",
    "# Model.init_train_load('inp', 0.1)  # skip init_train and load init file\n",
    "Model.log()"
   ]
  },
  {
   "cell_type": "code",
   "execution_count": null,
   "metadata": {},
   "outputs": [],
   "source": [
    "from model import GDAmodel\n",
    "import objs\n",
    "\n",
    "thC = 0.98  # threshod of conversion limit\n",
    "Model = GDAmodel(M, con, maskR, objs, thC=thC, GPU=1, path='CL')\n",
    "Model.init_train_load('inp', 0.1)  # skip init_train and load init file\n"
   ]
  },
  {
   "cell_type": "code",
   "execution_count": null,
   "metadata": {},
   "outputs": [],
   "source": [
    "Model.perference([1, 1, 1, 1, 1])\n",
    "Model.train(n_iter=1000, thStop=1, nprint=50)  # set nprint=None to close printing and ploting\n",
    "# img will be saved in plot/LU\n"
   ]
  },
  {
   "cell_type": "code",
   "execution_count": null,
   "metadata": {},
   "outputs": [],
   "source": [
    "Model.log()\n",
    "# Model.plot_opt()"
   ]
  },
  {
   "cell_type": "code",
   "execution_count": null,
   "metadata": {},
   "outputs": [],
   "source": [
    "print(Model.get_opt()['LU'].argmax(axis=1))\n",
    "print('food', np.sum(Model.get_opt()['LU'].argmax(axis=1)==1), 'tree', np.sum(Model.get_opt()['LU'].argmax(axis=1)==2))"
   ]
  },
  {
   "cell_type": "code",
   "execution_count": 65,
   "metadata": {},
   "outputs": [],
   "source": [
    "lu_matrix = Model.get_opt()['LU']\n",
    "\n",
    "# 将矩阵转换为 DataFrame\n",
    "df = pd.DataFrame(lu_matrix, columns=['Column1', 'Column2', 'Column3'])\n",
    "excel_file_path = 'duo4output.xlsx'\n",
    "with pd.ExcelWriter(excel_file_path) as writer:\n",
    "    df.to_excel(writer, index=False, sheet_name='Sheet1')"
   ]
  },
  {
   "cell_type": "code",
   "execution_count": 66,
   "metadata": {},
   "outputs": [],
   "source": [
    "gdf = gpd.read_file('duo/4.shp')\n",
    "gdf['LU'] = Model.get_opt()['LU'].argmax(axis=1)\n",
    "gdf.to_file('duo/4-1.shp')"
   ]
  }
 ],
 "metadata": {
  "kernelspec": {
   "display_name": "base",
   "language": "python",
   "name": "python3"
  },
  "language_info": {
   "codemirror_mode": {
    "name": "ipython",
    "version": 3
   },
   "file_extension": ".py",
   "mimetype": "text/x-python",
   "name": "python",
   "nbconvert_exporter": "python",
   "pygments_lexer": "ipython3",
   "version": "3.11.7"
  }
 },
 "nbformat": 4,
 "nbformat_minor": 2
}
